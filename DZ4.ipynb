{
 "cells": [
  {
   "cell_type": "code",
   "execution_count": 3,
   "metadata": {},
   "outputs": [],
   "source": [
    "import pandas as pd\n",
    "import numpy as np\n",
    "from scipy.optimize import fsolve\n",
    "import scipy.stats as ss"
   ]
  },
  {
   "cell_type": "markdown",
   "metadata": {},
   "source": [
    "О случайной непрерывной равномерно распределенной величине B известно, что ее\n",
    "дисперсия равна 0.2.\n",
    "Можно ли найти правую границу величины B и ее среднее значение зная, что левая\n",
    "граница равна 0.5?\n",
    "Если да, найдите ее."
   ]
  },
  {
   "cell_type": "code",
   "execution_count": 11,
   "metadata": {},
   "outputs": [
    {
     "name": "stdout",
     "output_type": "stream",
     "text": [
      "Правая граница = 2.049193338482981\n",
      "Cреднее значение = 1.2745966692414905\n"
     ]
    }
   ],
   "source": [
    "D = 0.2\n",
    "A = 0.5\n",
    "def uravnenie(x):\n",
    "    return ((x-A)**2/12-D)\n",
    "\n",
    "B = float(fsolve(uravnenie, (2)))\n",
    "M = (A + B)/2\n",
    "\n",
    "print (f'Правая граница = {B}')\n",
    "print (f'Cреднее значение = {M}')"
   ]
  },
  {
   "cell_type": "markdown",
   "metadata": {},
   "source": [
    "Задача 4. Рост взрослого населения города X имеет нормальное распределение, причем, средний рост равен 174 см, а среднее квадратическое отклонение равно 8 см. посчитайте, какова вероятность того, что случайным образом выбранный взрослый человек имеет рост:\n",
    "1. больше 182 см?\n",
    "2. больше 190 см?\n",
    "3. от 166 см до 190 см?\n",
    "4. от 166 см до 182 см?\n",
    "5. от 158 см до 190 см?\n",
    "6. не выше 150 см или не ниже 190 см?\n",
    "7. не выше 150 см или не ниже 198 см?\n",
    "8. ниже 166 см?"
   ]
  },
  {
   "cell_type": "code",
   "execution_count": 17,
   "metadata": {},
   "outputs": [
    {
     "name": "stdout",
     "output_type": "stream",
     "text": [
      "1. больше 182 см: 0.15865525393145707\n",
      "2. больше 190 см: 0.02275013194817921\n",
      "3. от 166 см до 190 см: 0.8185946141203637\n",
      "4. от 166 см до 182 см: 0.6826894921370859\n",
      "5. от 158 см до 190 см: 0.9544997361036416\n",
      "6. не выше 150 см или не ниже 190 см: 0.0241000299798093\n",
      "7. не выше 150 см или не ниже 198 см: 0.0026997960632601965\n",
      "8. ниже 166 см.: 0.15865525393145707\n"
     ]
    }
   ],
   "source": [
    "M = 174\n",
    "S = 8\n",
    "\n",
    "p1 = 1 - ss.norm.cdf((182 - M) / S) - ss.norm.cdf((0 - M) / S)\n",
    "p2 = 1 - ss.norm.cdf((190 - M) / S) - ss.norm.cdf((0 - M) / S)\n",
    "p3 = ss.norm.cdf((190 - M) / S) - ss.norm.cdf((166 - M) / S)\n",
    "p4 = ss.norm.cdf((182 - M) / S) - ss.norm.cdf((166 - M) / S)\n",
    "p5 = ss.norm.cdf((190 - M) / S) - ss.norm.cdf((158 - M) / S)\n",
    "p6 = (1 - ss.norm.cdf((190 - M) / S) - ss.norm.cdf((0 - M) / S)) + (ss.norm.cdf((150 - M) / S) - ss.norm.cdf((0 - M) / S))\n",
    "p7 = (1 - ss.norm.cdf((198 - M) / S) - ss.norm.cdf((0 - M) / S)) + (ss.norm.cdf((150 - M) / S) - ss.norm.cdf((0 - M) / S))\n",
    "p8 = ss.norm.cdf((166 - M) / S) - ss.norm.cdf((0 - M) / S)\n",
    "\n",
    "\n",
    "print(f'1. больше 182 см: {p1}')\n",
    "print(f'2. больше 190 см: {p2}')\n",
    "print(f'3. от 166 см до 190 см: {p3}')\n",
    "print(f'4. от 166 см до 182 см: {p4}')\n",
    "print(f'5. от 158 см до 190 см: {p5}')\n",
    "print(f'6. не выше 150 см или не ниже 190 см: {p6}')\n",
    "print(f'7. не выше 150 см или не ниже 198 см: {p7}')\n",
    "print(f'8. ниже 166 см.: {p8}')"
   ]
  }
 ],
 "metadata": {
  "kernelspec": {
   "display_name": "Python 3.11.1 64-bit",
   "language": "python",
   "name": "python3"
  },
  "language_info": {
   "codemirror_mode": {
    "name": "ipython",
    "version": 3
   },
   "file_extension": ".py",
   "mimetype": "text/x-python",
   "name": "python",
   "nbconvert_exporter": "python",
   "pygments_lexer": "ipython3",
   "version": "3.11.1"
  },
  "orig_nbformat": 4,
  "vscode": {
   "interpreter": {
    "hash": "c261aea317cc0286b3b3261fbba9abdec21eaa57589985bb7a274bf54d6cc0a7"
   }
  }
 },
 "nbformat": 4,
 "nbformat_minor": 2
}
